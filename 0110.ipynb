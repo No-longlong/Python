{
 "cells": [
  {
   "cell_type": "code",
   "execution_count": null,
   "metadata": {},
   "outputs": [],
   "source": [
    "out_file = open('vocabulary.txt', 'w')\n",
    "\n",
    "while True:\n",
    "    english_word = input(\"영어 단어를 입력하세요: \")\n",
    "    if english_word == 'q':\n",
    "        out_file.close()\n",
    "        break\n",
    "        \n",
    "    korea_word = input(\"한국 단어를 입력하세요: \")\n",
    "    out_file.write(\"%s: %s\\n\" % (english_word, korea_word.strip()))"
   ]
  },
  {
   "cell_type": "code",
   "execution_count": 4,
   "metadata": {},
   "outputs": [
    {
     "name": "stdout",
     "output_type": "stream",
     "text": [
      "cat: 고양이\n",
      "\n",
      "church: 교회\n",
      "\n"
     ]
    }
   ],
   "source": [
    "in_file = open('vocabulary.txt', 'r')\n",
    "for line in in_file:\n",
    "    print(line)\n",
    "in_file.close()"
   ]
  },
  {
   "cell_type": "code",
   "execution_count": null,
   "metadata": {},
   "outputs": [
    {
     "name": "stdout",
     "output_type": "stream",
     "text": [
      "고양이cat\n",
      "맞았습니다!\n"
     ]
    }
   ],
   "source": [
    "open_file = open('vocabulary.txt', 'r')\n",
    "\n",
    "eng_kor_list = []\n",
    "\n",
    "for line in open_file:\n",
    "    eng_kor_list = line.strip().split(\": \")\n",
    "    answer = input(eng_kor_list[1])\n",
    "    if answer == eng_kor_list[0]:\n",
    "        print(\"맞았습니다!\")\n",
    "    else:\n",
    "        print(\"아쉽습니다. 정답은 %s입니다.\" % eng_kor_list[0])\n",
    "\n",
    "# for ans er in eng_kor_list:\n",
    "    \n",
    "\n"
   ]
  },
  {
   "cell_type": "code",
   "execution_count": null,
   "metadata": {
    "scrolled": true
   },
   "outputs": [],
   "source": [
    "with open(\"vocabulary.txt\", \"r\") as file:\n",
    "    \n",
    "    for line in file:\n",
    "        eng_kor_list = line.strip().split(\": \")\n",
    "        answer = input(eng_kor_list[1])\n",
    "        if answer == eng_kor_list[0]:\n",
    "            print(\"맞았습니다!\")\n",
    "        else:\n",
    "            print(\"아쉽습니다. 정답은 %s입니다.\" % eng_kor_list[0])\n",
    "\n",
    "        \n",
    "\"\"\"\n",
    "\n",
    "    for line in file:\n",
    "    .\n",
    "    .\n",
    "    .\n",
    "    .\n",
    "\"\"\"\n",
    "  "
   ]
  },
  {
   "cell_type": "code",
   "execution_count": 3,
   "metadata": {},
   "outputs": [
    {
     "name": "stdout",
     "output_type": "stream",
     "text": [
      "cat: 고양이\n"
     ]
    }
   ],
   "source": [
    "out_file = open('vocabulary.txt', 'r')\n",
    "print(out_file.readline(), end = '')"
   ]
  },
  {
   "cell_type": "code",
   "execution_count": 4,
   "metadata": {},
   "outputs": [
    {
     "name": "stdout",
     "output_type": "stream",
     "text": [
      "50000원 지폐: 1장\n",
      "10000원 지폐: 1장\n",
      "5000원 지폐: 1장\n",
      "1000원 지폐: 0장\n"
     ]
    }
   ],
   "source": [
    "payment = 135000\n",
    "cost = 70000\n",
    "\n",
    "change = payment - cost \n",
    "\n",
    "a = 50000\n",
    "b = 10000\n",
    "c = 5000\n",
    "d = 1000 \n",
    "\n",
    "change_1 = change - a * (change // a)\n",
    "change_2 = change_1 - b * (change_1 // b)\n",
    "change_3 = change_2 - c * (change_2 // c)\n",
    "\n",
    "print(\"%d원 지폐: %d장\" % (a, change // a))\n",
    "print(\"%d원 지폐: %d장\" % (b, change_1 // b))\n",
    "print(\"%d원 지폐: %d장\" % (c, change_2 // c))\n",
    "print(\"%d원 지폐: %d장\" % (d, change_3 // d))"
   ]
  }
 ],
 "metadata": {
  "kernelspec": {
   "display_name": "Python 3",
   "language": "python",
   "name": "python3"
  },
  "language_info": {
   "codemirror_mode": {
    "name": "ipython",
    "version": 3
   },
   "file_extension": ".py",
   "mimetype": "text/x-python",
   "name": "python",
   "nbconvert_exporter": "python",
   "pygments_lexer": "ipython3",
   "version": "3.7.4"
  }
 },
 "nbformat": 4,
 "nbformat_minor": 2
}
