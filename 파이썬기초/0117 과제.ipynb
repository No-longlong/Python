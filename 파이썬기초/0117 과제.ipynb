{
 "cells": [
  {
   "cell_type": "code",
   "execution_count": 10,
   "metadata": {},
   "outputs": [
    {
     "name": "stdout",
     "output_type": "stream",
     "text": [
      "[14, 4, 6, 8, 10, 12, 2]\n",
      "[14, 12, 6, 8, 10, 12, 4]\n",
      "[14, 12, 10, 8, 10, 12, 6]\n",
      "[14, 12, 10, 8, 10, 12, 8]\n",
      "[14, 12, 10, 8, 10, 12, 10]\n",
      "[14, 12, 10, 8, 10, 12, 12]\n",
      "[14, 12, 10, 8, 10, 12, 12]\n"
     ]
    }
   ],
   "source": [
    "numbers = [2, 4, 6, 8, 10, 12, 14]\n",
    "\n",
    "# 리스트 뒤집기\n",
    "for rev_num in numbers:\n",
    "    last_num = numbers[-numbers.index(rev_num)-1]\n",
    "    first_num = numbers[numbers.index(rev_num)]\n",
    "    \n",
    "    numbers[numbers.index(rev_num)] = last_num\n",
    "    numbers[len(numbers)-1] = first_num\n",
    "    print(numbers)\n",
    "    \n",
    "#print(\"뒤집어진 리스트: \" + str(numbers))"
   ]
  }
 ],
 "metadata": {
  "kernelspec": {
   "display_name": "Python 3",
   "language": "python",
   "name": "python3"
  },
  "language_info": {
   "codemirror_mode": {
    "name": "ipython",
    "version": 3
   },
   "file_extension": ".py",
   "mimetype": "text/x-python",
   "name": "python",
   "nbconvert_exporter": "python",
   "pygments_lexer": "ipython3",
   "version": "3.7.4"
  }
 },
 "nbformat": 4,
 "nbformat_minor": 2
}
