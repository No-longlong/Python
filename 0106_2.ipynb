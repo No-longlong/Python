{
 "cells": [
  {
   "cell_type": "code",
   "execution_count": null,
   "metadata": {},
   "outputs": [],
   "source": [
    "from random import randint\n",
    "\n",
    "chance = 4\n",
    "random = randint(1, 20)\n",
    "\n",
    "while chance >= 1:\n",
    "    answer = int(input(\"기회가 %d번 남았습니다. 1-20 사이의 숫자를 맞춰보세요: \" % chance))\n",
    "    if answer == random:\n",
    "            print(\"축하합니다 %d번만에 숫자를 맞추셨습니다.\" % chance)\n",
    "            break\n",
    "    elif chance == 1:\n",
    "            print(\"아쉽습니다. 정답은 %d였습니다.\" % random)\n",
    "    else:        \n",
    "            if answer > random:\n",
    "                print(\"Down\")\n",
    "            else:\n",
    "                print(\"Up\")\n",
    "    chance -= 1"
   ]
  },
  {
   "cell_type": "code",
   "execution_count": null,
   "metadata": {},
   "outputs": [],
   "source": []
  }
 ],
 "metadata": {
  "kernelspec": {
   "display_name": "Python 3",
   "language": "python",
   "name": "python3"
  },
  "language_info": {
   "codemirror_mode": {
    "name": "ipython",
    "version": 3
   },
   "file_extension": ".py",
   "mimetype": "text/x-python",
   "name": "python",
   "nbconvert_exporter": "python",
   "pygments_lexer": "ipython3",
   "version": "3.7.4"
  }
 },
 "nbformat": 4,
 "nbformat_minor": 2
}
