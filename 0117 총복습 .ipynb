{
 "cells": [
  {
   "cell_type": "code",
   "execution_count": null,
   "metadata": {},
   "outputs": [],
   "source": [
    "one_ten_list = list(range(10))\n",
    "print(one_ten_list)"
   ]
  },
  {
   "cell_type": "code",
   "execution_count": null,
   "metadata": {},
   "outputs": [],
   "source": [
    "# 예전에 풀었던 과거 코드(수정한 코드)\n",
    "# i 변수명 수정 (O)\n",
    "# while True보다 조건 있는 반복문 구현\n",
    "# else 사용 \n",
    "\n",
    "from random import randint\n",
    "\n",
    "chance = 4\n",
    "random = randint(1, 20)\n",
    "\n",
    "while chance >= 1:\n",
    "    answer = int(input(\"기회가 %d번 남았습니다. 1-20 사이의 숫자를 맞춰보세요: \" % chance))\n",
    "    if answer == random:\n",
    "            print(\"축하합니다 %d번만에 숫자를 맞추셨습니다.\" % (5 - chance))\n",
    "            break\n",
    "    elif chance == 1:\n",
    "            print(\"아쉽습니다. 정답은 %d였습니다.\" % random)\n",
    "    else:        \n",
    "            if answer > random:\n",
    "                print(\"Down\")\n",
    "            else:\n",
    "                print(\"Up\")\n",
    "    chance -= 1"
   ]
  },
  {
   "cell_type": "code",
   "execution_count": null,
   "metadata": {},
   "outputs": [],
   "source": [
    "# 이 코드의 오류는 무엇일까? -- 지금껀 오류 없음. if chance ==0 을 while 내부에 쓰게 된다면 오류가 생김\n",
    "# 4번째에 맞힐 경우.\n",
    "from random import randint\n",
    "\n",
    "random_number = randint(1, 20)\n",
    "print(random_number, \"가 정답\")\n",
    "\n",
    "chance = 4\n",
    "\n",
    "while chance > 0:\n",
    "    answer = int(input(\"기회가 %d번 남았습니다. 1-20 사이의 숫자를 맞춰보세요: \" % chance))\n",
    "    if answer == random_number:\n",
    "        print(\"축하합니다. %d번만에 숫자를 맞추셨습니다.\" % (5 - chance))\n",
    "    else:\n",
    "        if answer < random_number:\n",
    "            print(\"Up\")\n",
    "        else:\n",
    "            print(\"Down\")\n",
    "    chance -= 1\n",
    "    # 여기에 if chance == 0 쓰면 마지막 4번째때 정답을 맞추게 되면 축하합니다 + 아쉽습니다 가 출력된다.\n",
    "if chance == 0:\n",
    "    print(\"아쉽습니다. 정답은 %d였습니다.\" % random_number)"
   ]
  },
  {
   "cell_type": "code",
   "execution_count": null,
   "metadata": {},
   "outputs": [],
   "source": [
    "# 1과 20 사이의 숫자를 맞추는 게임을 만드려고 합니다.\n",
    "\n",
    "# 앞서 배운 randint 함수와, input 함수의 개념을 활용하여 직접 프로그램을 만들어보세요.\n",
    "\n",
    "# 진행 방식\n",
    "\n",
    "# 프로그램을 실행하면 \"기회가 *번 남았습니다. 1-20 사이의 숫자를 맞춰보세요: \"가 출력됩니다. 총 4번의 기회가 주어지며, 사용자가 한 번 추측할 때마다 남은 기회 횟수가 줄어듭니다.\n",
    "\n",
    "# 정답을 맞추면, \"축하합니다. *번만에 숫자를 맞추셨습니다.\"가 출력되고 프로그램은 종료됩니다.\n",
    "\n",
    "# 사용자가 입력한 수가 정답보다 작을 경우 \"Up\"이 출력되고, 입력한 수가 정답보다 클 경우 \"Down\"이 출력됩니다.\n",
    "\n",
    "# 정답이 틀렸으면 (1)번부터 다시 진행합니다. 만약 4번의 기회를 모두 사용했는데도 답을 맞추지 못했으면, \"아쉽습니다. 정답은 *였습니다.\"가 출력되고 프로그램은 종료됩니다.\n",
    "\n"
   ]
  }
 ],
 "metadata": {
  "kernelspec": {
   "display_name": "Python 3",
   "language": "python",
   "name": "python3"
  },
  "language_info": {
   "codemirror_mode": {
    "name": "ipython",
    "version": 3
   },
   "file_extension": ".py",
   "mimetype": "text/x-python",
   "name": "python",
   "nbconvert_exporter": "python",
   "pygments_lexer": "ipython3",
   "version": "3.7.4"
  }
 },
 "nbformat": 4,
 "nbformat_minor": 2
}
