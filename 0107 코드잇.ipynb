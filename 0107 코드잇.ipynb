{
 "cells": [
  {
   "cell_type": "code",
   "execution_count": null,
   "metadata": {},
   "outputs": [],
   "source": [
    "# 모듈 불러오기\n",
    "from random import randint\n",
    "\n",
    "# 정답이 될 리스트 생성\n",
    "computer_list = []\n",
    "\n",
    "# 중복되지 않게 3개의 랜덤 값을 computer_list에 배열\n",
    "while len(computer_list) < 3:\n",
    "    number = randint(0,9)\n",
    "    while number in computer_list:\n",
    "        number = randint(0,9)\n",
    "    computer_list.append(number)\n",
    "print(\"0과 9 사이의 서로 다른 세 숫자를 랜덤한 순서로 뽑았습니다.\")\n",
    "\n",
    "print(\"세 수를 하나씩 차례대로 입력하세요.\")\n",
    "\n",
    "# 사용자 시도 횟수\n",
    "player_bingo_count = 0\n",
    "\n",
    "while True:\n",
    "    player_bingo_count += 1\n",
    "    \n",
    "    player_list = [] # 사용자가 예측하는 리스트 생성(리스트 초기화)\n",
    "    count = 1 # player_list 숫자 3개 입력받기\n",
    "    while count <= 3:\n",
    "        answer = int(input(\"%d번째 수를 입력하세요: \" % count))\n",
    "        while answer < 0 or answer > 9:\n",
    "            print(\"범위를 벗어나는 수입니다. 다시 입력해주세요.\")\n",
    "            answer = int(input(\"%d번째 수를 입력하세요: \" % count))\n",
    "        while answer in player_list:\n",
    "            print(\"중복되는 수 입니다. 다시 입력해주세요.\")\n",
    "            answer = int(input(\"%d번째 수를 입력하세요: \" % count))\n",
    "        player_list.append(answer)\n",
    "        count += 1\n",
    "\n",
    "    strike = 0 # strike와 ball을 대조, 3 strike가 나올 때까지 반복    \n",
    "    ball = 0\n",
    "    \n",
    "    strike_count = 0\n",
    "    while strike_count < 3:\n",
    "        if player_list[strike_count] == computer_list[strike_count]:\n",
    "            strike += 1\n",
    "        strike_count += 1\n",
    "\n",
    "    ball_count = 0\n",
    "    while ball_count < 3:\n",
    "        if player_list[ball_count] in computer_list:\n",
    "            ball += 1\n",
    "        ball_count += 1\n",
    "        \n",
    "    print(\"%dS %dB\" % (strike, ball)) \n",
    "    \n",
    "    if strike == 3: # strike가 3개가 되면 반복문 중지\n",
    "        print(\"축하합니다. %d번 만에 세 숫자의 값과 위치를 모두 맞추셨습니다.\" % player_bingo_count)\n",
    "        break "
   ]
  },
  {
   "cell_type": "code",
   "execution_count": 1,
   "metadata": {},
   "outputs": [
    {
     "name": "stdout",
     "output_type": "stream",
     "text": [
      "6\n",
      "5\n",
      "4\n",
      "3\n",
      "2\n",
      "1\n",
      "0\n"
     ]
    }
   ],
   "source": [
    "for i in range(6, -1, -1):\n",
    "    print(i)"
   ]
  }
 ],
 "metadata": {
  "kernelspec": {
   "display_name": "Python 3",
   "language": "python",
   "name": "python3"
  },
  "language_info": {
   "codemirror_mode": {
    "name": "ipython",
    "version": 3
   },
   "file_extension": ".py",
   "mimetype": "text/x-python",
   "name": "python",
   "nbconvert_exporter": "python",
   "pygments_lexer": "ipython3",
   "version": "3.7.4"
  }
 },
 "nbformat": 4,
 "nbformat_minor": 2
}
