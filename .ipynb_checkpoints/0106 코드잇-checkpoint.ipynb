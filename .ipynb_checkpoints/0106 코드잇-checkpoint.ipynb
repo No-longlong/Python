{
 "cells": [
  {
   "cell_type": "code",
   "execution_count": 3,
   "metadata": {},
   "outputs": [
    {
     "name": "stdout",
     "output_type": "stream",
     "text": [
      "기회가 4번 남았습니다. 1-20 사이의 숫자를 맞춰보세요: 10\n",
      "Down\n",
      "기회가 3번 남았습니다. 1-20 사이의 숫자를 맞춰보세요: 5\n",
      "Down\n",
      "기회가 2번 남았습니다. 1-20 사이의 숫자를 맞춰보세요: 3\n",
      "Up\n",
      "기회가 1번 남았습니다. 1-20 사이의 숫자를 맞춰보세요: 3\n",
      "아쉽습니다. 정답은 4였습니다.\n"
     ]
    }
   ],
   "source": [
    "from random import randint\n",
    "\n",
    "chance = 4\n",
    "random = randint(1, 20)\n",
    "\n",
    "while chance >= 1:\n",
    "    answer = int(input(\"기회가 %d번 남았습니다. 1-20 사이의 숫자를 맞춰보세요: \" % chance))\n",
    "    if answer == random:\n",
    "            print(\"축하합니다 %d번만에 숫자를 맞추셨습니다.\" % (5 - chance))\n",
    "            break\n",
    "    elif chance == 1:\n",
    "            print(\"아쉽습니다. 정답은 %d였습니다.\" % random)\n",
    "    else:        \n",
    "            if answer > random:\n",
    "                print(\"Down\")\n",
    "            else:\n",
    "                print(\"Up\")\n",
    "    chance -= 1"
   ]
  },
  {
   "cell_type": "code",
   "execution_count": 35,
   "metadata": {},
   "outputs": [
    {
     "name": "stdout",
     "output_type": "stream",
     "text": [
      "화씨 온도 리스트: [40, 15, 32, 64, -4, 11]\n",
      "섭씨 온도 리스트: [4.444444444444445, -9.444444444444445, 0.0, 17.77777777777778, -20.0, -11.666666666666666]\n"
     ]
    }
   ],
   "source": [
    "# °C = (°F - 32) x 5 / 9\n",
    "# 화씨 온도에서 섭씨 온도로 바꿔주는 함수\n",
    "def fahrenheit_to_celsius(fahrenheit):\n",
    "    c = (fahrenheit - 32) * 5 / 9\n",
    "    return c\n",
    "\n",
    "# 테스트용 온도 리스트\n",
    "sample_temperature_list = [40, 15, 32, 64, -4, 11]\n",
    "\n",
    "# 화씨 온도 출력\n",
    "print(\"화씨 온도 리스트: \" + str(sample_temperature_list))\n",
    "\n",
    "# 리스트의 값들을 화씨에서 섭씨로 변환\n",
    "list_index = 0\n",
    "while list_index < len(sample_temperature_list):\n",
    "    temporary_celcius = fahrenheit_to_celsius(sample_temperature_list[list_index])\n",
    "    del sample_temperature_list[list_index]\n",
    "    sample_temperature_list.insert(list_index, temporary_celcius)\n",
    "    list_index += 1\n",
    "    \n",
    "\n",
    "# 섭씨 온도 출력\n",
    "print(\"섭씨 온도 리스트: \" + str(sample_temperature_list))\n"
   ]
  },
  {
   "cell_type": "code",
   "execution_count": 20,
   "metadata": {},
   "outputs": [
    {
     "name": "stdout",
     "output_type": "stream",
     "text": [
      "[0, 1, 2, 3, 4, 5, 6, 7, 8, 9, 10]\n",
      "[1, 2, 3, 4, 5, 6, 7, 8, 9, 10]\n",
      "[3, 1, 2, 3, 4, 5, 6, 7, 8, 9, 10]\n"
     ]
    }
   ],
   "source": [
    "l = []\n",
    "i = 0\n",
    "\n",
    "while i <= 10:\n",
    "    l.append(i)\n",
    "    i += 1\n",
    "print(l)\n",
    "\n",
    "del l[0]\n",
    "print(l)\n",
    "\n",
    "l.insert(0, 3)\n",
    "print(l)"
   ]
  },
  {
   "cell_type": "code",
   "execution_count": 37,
   "metadata": {},
   "outputs": [
    {
     "name": "stdout",
     "output_type": "stream",
     "text": [
      "한국 화폐: [1000, 2000, 3000, 5000, 8000, 13000, 21000, 34000]\n",
      "미국 화폐: [1.0, 2.0, 3.0, 5.0, 8.0, 13.0, 21.0, 34.0]\n"
     ]
    },
    {
     "ename": "NameError",
     "evalue": "name 'dollar' is not defined",
     "output_type": "error",
     "traceback": [
      "\u001b[1;31m---------------------------------------------------------------------------\u001b[0m",
      "\u001b[1;31mNameError\u001b[0m                                 Traceback (most recent call last)",
      "\u001b[1;32m<ipython-input-37-d9f187d2df38>\u001b[0m in \u001b[0;36m<module>\u001b[1;34m\u001b[0m\n\u001b[0;32m     26\u001b[0m \u001b[0men_list\u001b[0m \u001b[1;33m=\u001b[0m \u001b[1;33m[\u001b[0m\u001b[1;33m]\u001b[0m\u001b[1;33m\u001b[0m\u001b[1;33m\u001b[0m\u001b[0m\n\u001b[0;32m     27\u001b[0m \u001b[1;32mwhile\u001b[0m \u001b[0mo\u001b[0m \u001b[1;33m<\u001b[0m \u001b[0mlen\u001b[0m\u001b[1;33m(\u001b[0m\u001b[0mamounts\u001b[0m\u001b[1;33m)\u001b[0m\u001b[1;33m:\u001b[0m\u001b[1;33m\u001b[0m\u001b[1;33m\u001b[0m\u001b[0m\n\u001b[1;32m---> 28\u001b[1;33m     \u001b[0men_list\u001b[0m\u001b[1;33m.\u001b[0m\u001b[0mappend\u001b[0m\u001b[1;33m(\u001b[0m\u001b[0musd_to_jpy\u001b[0m\u001b[1;33m(\u001b[0m\u001b[0mdollar_list\u001b[0m\u001b[1;33m[\u001b[0m\u001b[0mo\u001b[0m\u001b[1;33m]\u001b[0m\u001b[1;33m)\u001b[0m\u001b[1;33m)\u001b[0m\u001b[1;33m\u001b[0m\u001b[1;33m\u001b[0m\u001b[0m\n\u001b[0m\u001b[0;32m     29\u001b[0m     \u001b[0mo\u001b[0m \u001b[1;33m+=\u001b[0m \u001b[1;36m1\u001b[0m\u001b[1;33m\u001b[0m\u001b[1;33m\u001b[0m\u001b[0m\n\u001b[0;32m     30\u001b[0m \u001b[1;33m\u001b[0m\u001b[0m\n",
      "\u001b[1;32m<ipython-input-37-d9f187d2df38>\u001b[0m in \u001b[0;36musd_to_jpy\u001b[1;34m(dollars)\u001b[0m\n\u001b[0;32m      5\u001b[0m \u001b[1;31m# 달러($)에서 엔(￥)로 바꿔주는 함수\u001b[0m\u001b[1;33m\u001b[0m\u001b[1;33m\u001b[0m\u001b[1;33m\u001b[0m\u001b[0m\n\u001b[0;32m      6\u001b[0m \u001b[1;32mdef\u001b[0m \u001b[0musd_to_jpy\u001b[0m\u001b[1;33m(\u001b[0m\u001b[0mdollars\u001b[0m\u001b[1;33m)\u001b[0m\u001b[1;33m:\u001b[0m\u001b[1;33m\u001b[0m\u001b[1;33m\u001b[0m\u001b[0m\n\u001b[1;32m----> 7\u001b[1;33m     \u001b[0men\u001b[0m \u001b[1;33m=\u001b[0m \u001b[1;33m(\u001b[0m\u001b[1;36m1000\u001b[0m \u001b[1;33m*\u001b[0m \u001b[0mdollar\u001b[0m \u001b[1;33m/\u001b[0m \u001b[1;36m8\u001b[0m\u001b[1;33m)\u001b[0m\u001b[1;33m\u001b[0m\u001b[1;33m\u001b[0m\u001b[0m\n\u001b[0m\u001b[0;32m      8\u001b[0m     \u001b[1;32mreturn\u001b[0m \u001b[0men\u001b[0m\u001b[1;33m\u001b[0m\u001b[1;33m\u001b[0m\u001b[0m\n\u001b[0;32m      9\u001b[0m \u001b[1;33m\u001b[0m\u001b[0m\n",
      "\u001b[1;31mNameError\u001b[0m: name 'dollar' is not defined"
     ]
    }
   ],
   "source": [
    "# 원(￦)에서 달러($)로 바꿔주는 함수\n",
    "def krw_to_usd(won):\n",
    "    return won / 1000\n",
    "\n",
    "# 달러($)에서 엔(￥)로 바꿔주는 함수\n",
    "def usd_to_jpy(dollars):\n",
    "    en = (1000 * dollars / 8)\n",
    "    return en\n",
    "\n",
    "# 원(￦)으로 각각 얼마인가요?\n",
    "amounts = [1000, 2000, 3000, 5000, 8000, 13000, 21000, 34000]\n",
    "print(\"한국 화폐: \" + str(amounts))\n",
    "\n",
    "# amounts를 원(￦)에서 달러($)로 바꿔주기\n",
    "i = 0\n",
    "dollar_list = []\n",
    "while i < len(amounts):\n",
    "    dollar_list.append(krw_to_usd(amounts[i]))\n",
    "    i += 1\n",
    "\n",
    "# 달러($)로 각각 얼마인가요?\n",
    "print(\"미국 화폐: \" + str(dollar_list))\n",
    "\n",
    "# amounts를 달러($)에서 엔(￥)으로 바꿔주기\n",
    "o = 0\n",
    "en_list = []\n",
    "while o < len(amounts):\n",
    "    en_list.append(usd_to_jpy(dollar_list[o]))\n",
    "    o += 1\n",
    "\n",
    "# 엔(￥)으로 각각 얼마인가요?\n",
    "print(\"일본 화폐: \" + str(en_list))\n"
   ]
  },
  {
   "cell_type": "code",
   "execution_count": 42,
   "metadata": {},
   "outputs": [
    {
     "name": "stdout",
     "output_type": "stream",
     "text": [
      "한국 화폐: [1000, 2000, 3000, 5000, 8000, 13000, 21000, 34000]\n",
      "미국 화폐: [1.0, 2.0, 3.0, 5.0, 8.0, 13.0, 21.0, 34.0]\n",
      "일본 화폐: [125.0, 250.0, 375.0, 625.0, 1000.0, 1625.0, 2625.0, 4250.0]\n"
     ]
    }
   ],
   "source": [
    "# 원(￦)에서 달러($)로 바꿔주는 함수\n",
    "def krw_to_usd(won):\n",
    "    return won / 1000\n",
    "\n",
    "# 달러($)에서 엔(￥)로 바꿔주는 함수\n",
    "def usd_to_jpy(dollars): \n",
    "    return 1000 * dollars / 8\n",
    "\n",
    "# 원(￦)으로 각각 얼마인가요?\n",
    "amounts = [1000, 2000, 3000, 5000, 8000, 13000, 21000, 34000]\n",
    "print(\"한국 화폐: \" + str(amounts))\n",
    "\n",
    "# amounts를 원(￦)에서 달러($)로 바꿔주기\n",
    "i = 0\n",
    "while i < len(amounts):\n",
    "    amounts[i] = krw_to_usd(amounts[i])\n",
    "    i += 1\n",
    "\n",
    "# 달러($)로 각각 얼마인가요?\n",
    "print(\"미국 화폐: \" + str(amounts))\n",
    "\n",
    "# amounts를 달러($)에서 엔(￥)으로 바꿔주기\n",
    "i = 0\n",
    "while i < len(amounts):\n",
    "    amounts[i] = usd_to_jpy(amounts[i])\n",
    "    i += 1\n",
    "\n",
    "# 엔(￥)으로 각각 얼마인가요?\n",
    "print(\"일본 화폐: \" + str(amounts))"
   ]
  },
  {
   "cell_type": "code",
   "execution_count": 43,
   "metadata": {},
   "outputs": [
    {
     "name": "stdout",
     "output_type": "stream",
     "text": [
      "[]\n"
     ]
    }
   ],
   "source": [
    "# 빈 리스트 만들기\n",
    "numbers = []\n",
    "\n",
    "# numbers에 자연수 1부터 10까지 추가\n",
    "i = 1\n",
    "while i <= len(numbers):\n",
    "    numbers.append(i)\n",
    "    i += 1 \n",
    "print(numbers)"
   ]
  },
  {
   "cell_type": "code",
   "execution_count": 45,
   "metadata": {},
   "outputs": [
    {
     "name": "stdout",
     "output_type": "stream",
     "text": [
      "[1, 2, 3, 4, 5, 6, 7, 8, 9, 10]\n",
      "[2, 4, 6, 8, 10]\n"
     ]
    }
   ],
   "source": [
    "numbers = []\n",
    "i = 1\n",
    "while i < 11:\n",
    "    numbers.append(i) \n",
    "    i += 1   \n",
    "print(numbers)\n",
    "\n",
    "i = 0\n",
    "while i < len(numbers): \n",
    "    if numbers[i] % 2 != 0:\n",
    "        del numbers[i]\n",
    "    else:\n",
    "        i += 1    \n",
    "print(numbers)"
   ]
  },
  {
   "cell_type": "code",
   "execution_count": 85,
   "metadata": {},
   "outputs": [
    {
     "name": "stdout",
     "output_type": "stream",
     "text": [
      "0과 9 사이의 서로 다른 세 숫자를 랜덤한 순서로 뽑았습니다.\n",
      "세 수를 하나씩 차례대로 입력하세요.\n",
      "1번째 수를 입력하세요: 5\n",
      "2번째 수를 입력하세요: 3\n",
      "3번째 수를 입력하세요: 2\n"
     ]
    },
    {
     "ename": "IndexError",
     "evalue": "list index out of range",
     "output_type": "error",
     "traceback": [
      "\u001b[1;31m---------------------------------------------------------------------------\u001b[0m",
      "\u001b[1;31mIndexError\u001b[0m                                Traceback (most recent call last)",
      "\u001b[1;32m<ipython-input-85-9dae7893d24c>\u001b[0m in \u001b[0;36m<module>\u001b[1;34m\u001b[0m\n\u001b[0;32m     47\u001b[0m \u001b[0mball\u001b[0m \u001b[1;33m=\u001b[0m \u001b[1;36m0\u001b[0m\u001b[1;33m\u001b[0m\u001b[1;33m\u001b[0m\u001b[0m\n\u001b[0;32m     48\u001b[0m \u001b[1;33m\u001b[0m\u001b[0m\n\u001b[1;32m---> 49\u001b[1;33m \u001b[1;32mif\u001b[0m \u001b[0mcomputer_list\u001b[0m\u001b[1;33m[\u001b[0m\u001b[0mi\u001b[0m\u001b[1;33m]\u001b[0m \u001b[1;33m==\u001b[0m \u001b[0mplayer_list\u001b[0m\u001b[1;33m[\u001b[0m\u001b[0mi\u001b[0m\u001b[1;33m]\u001b[0m\u001b[1;33m:\u001b[0m\u001b[1;33m\u001b[0m\u001b[1;33m\u001b[0m\u001b[0m\n\u001b[0m\u001b[0;32m     50\u001b[0m     \u001b[0mstrike\u001b[0m \u001b[1;33m+=\u001b[0m \u001b[1;36m1\u001b[0m\u001b[1;33m\u001b[0m\u001b[1;33m\u001b[0m\u001b[0m\n\u001b[0;32m     51\u001b[0m \u001b[1;32melif\u001b[0m \u001b[0mplayer_list\u001b[0m\u001b[1;33m[\u001b[0m\u001b[0mi\u001b[0m\u001b[1;33m]\u001b[0m \u001b[1;32min\u001b[0m \u001b[0mcomputer_list\u001b[0m\u001b[1;33m:\u001b[0m\u001b[1;33m\u001b[0m\u001b[1;33m\u001b[0m\u001b[0m\n",
      "\u001b[1;31mIndexError\u001b[0m: list index out of range"
     ]
    }
   ],
   "source": [
    "from random import randint\n",
    "# 모듈 불러오기\n",
    "\n",
    "computer_list = []\n",
    "# 정답이 될 리스트 생성\n",
    "player_list = []\n",
    "# 사용자가 예측하는 리스트 생성\n",
    "\n",
    "while len(computer_list) < 3:\n",
    "    number = randint(0,9)\n",
    "    while number in computer_list:\n",
    "        number = randint(0,9)\n",
    "    computer_list.append(number)\n",
    "print(\"0과 9 사이의 서로 다른 세 숫자를 랜덤한 순서로 뽑았습니다.\")\n",
    "# 중복되지 않는 3개의 리스트 값을 computer_list에 배열\n",
    "\n",
    "print(\"세 수를 하나씩 차례대로 입력하세요.\")\n",
    "\n",
    "first_answer = int(input(\"1번째 수를 입력하세요: \"))\n",
    "while first_answer < 0 or first_answer > 9:\n",
    "    print(\"범위를 벗어나는 수입니다. 다시 입력해주세요.\")\n",
    "    first_answer = int(input(\"1번째 수를 입력하세요: \") )\n",
    "player_list.append(first_answer)\n",
    "    # 첫번째 값 입력받아서 사용자 리스트에 추가\n",
    "\n",
    "second_answer = int(input(\"2번째 수를 입력하세요: \"))\n",
    "while second_answer < 0 or second_answer > 9:\n",
    "    print(\"범위를 벗어나는 수입니다. 다시 입력해주세요.\")\n",
    "    second_answer = int(input(\"2번째 수를 입력하세요: \") )\n",
    "while first_answer == second_answer:\n",
    "    print(\"중복되는 수 입니다. 다시 입력해주세요.\")\n",
    "    second_answer = int(input(\"2번째 수를 입력하세요: \"))\n",
    "player_list.append(second_answer)\n",
    "    # 두번째 값 입력받아서 사용자 리스트에 추가\n",
    "\n",
    "third_answer = int(input(\"3번째 수를 입력하세요: \"))\n",
    "while third_answer < 0 or third_answer > 9:\n",
    "    print(\"범위를 벗어나는 수입니다. 다시 입력해주세요.\")\n",
    "    third_answer = int(input(\"3번째 수를 입력하세요: \"))\n",
    "while first_answer == third_answer or second_answer == third_answer:\n",
    "    print(\"중복되는 수 입니다. 다시 입력해주세요. \")\n",
    "    third_answer = int(input(\"3번째 수를 입력하세요: \"))\n",
    "player_list.append(third_answer)\n",
    "    # 세번째 값 입력받아서 사용자 리스트에 추가\n",
    "\n",
    "strike = 0\n",
    "ball = 0\n",
    "\n",
    "if computer_list[i] == player_list[i]:\n",
    "    strike += 1\n",
    "elif player_list[i] in computer_list:\n",
    "    ball += 1\n",
    "\n",
    "print(strike, ball)"
   ]
  },
  {
   "cell_type": "code",
   "execution_count": 84,
   "metadata": {},
   "outputs": [
    {
     "name": "stdout",
     "output_type": "stream",
     "text": [
      "[5, 3, 2]\n"
     ]
    }
   ],
   "source": [
    "print(player_list)"
   ]
  }
 ],
 "metadata": {
  "kernelspec": {
   "display_name": "Python 3",
   "language": "python",
   "name": "python3"
  },
  "language_info": {
   "codemirror_mode": {
    "name": "ipython",
    "version": 3
   },
   "file_extension": ".py",
   "mimetype": "text/x-python",
   "name": "python",
   "nbconvert_exporter": "python",
   "pygments_lexer": "ipython3",
   "version": "3.7.4"
  }
 },
 "nbformat": 4,
 "nbformat_minor": 2
}
