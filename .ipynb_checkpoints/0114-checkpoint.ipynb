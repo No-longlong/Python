{
 "cells": [
  {
   "cell_type": "code",
   "execution_count": 8,
   "metadata": {},
   "outputs": [
    {
     "name": "stdout",
     "output_type": "stream",
     "text": [
      "영어 단어를 입력하세요: hold\n",
      "한글 단어를 입력하세요: 들다\n",
      "영어 단어를 입력하세요: arrange\n",
      "한글 단어를 입력하세요: 정리하다\n",
      "영어 단어를 입력하세요: pass\n",
      "한글 단어를 입력하세요: 지나가다\n",
      "영어 단어를 입력하세요: reach\n",
      "한글 단어를 입력하세요: 뻗다\n",
      "영어 단어를 입력하세요: q\n"
     ]
    }
   ],
   "source": [
    "# 단어장 만들기\n",
    "write_file = open('vocabulary.txt', 'w')\n",
    "\n",
    "while True:\n",
    "    eng_voca = input(\"영어 단어를 입력하세요: \")\n",
    "    if eng_voca == 'q':\n",
    "        write_file.close()\n",
    "        break\n",
    "        \n",
    "    kor_voca = input(\"한글 단어를 입력하세요: \")\n",
    "    if eng_voca == 'q':\n",
    "        write_file.close()\n",
    "        break\n",
    "        \n",
    "    write_file.write(\"%s: %s\\n\" % (eng_voca, kor_voca))"
   ]
  },
  {
   "cell_type": "code",
   "execution_count": 9,
   "metadata": {},
   "outputs": [
    {
     "name": "stdout",
     "output_type": "stream",
     "text": [
      "hold: 들다\n",
      "arrange: 정리하다\n",
      "pass: 지나가다\n",
      "reach: 뻗다\n",
      "\n"
     ]
    }
   ],
   "source": [
    "open_file = open('vocabulary.txt', 'r')\n",
    "\n",
    "print(open_file.read()) # 통으로 보는 방법\n",
    "\n",
    "open_file.close()"
   ]
  },
  {
   "cell_type": "code",
   "execution_count": 10,
   "metadata": {},
   "outputs": [
    {
     "name": "stdout",
     "output_type": "stream",
     "text": [
      "hold: 들다\n",
      "arrange: 정리하다\n",
      "pass: 지나가다\n",
      "reach: 뻗다\n",
      "\n"
     ]
    }
   ],
   "source": [
    "# 단어 퀴즈 만들기\n",
    "# with open('vocabulary.txt' ,'r') as read_file:\n",
    "read_file = open('vocabulary.txt', 'r')\n",
    "\n",
    "# for line in read_file:\n",
    "#     answer_list = line.strip().split(\": \")\n",
    "#     answer = input(\"%s: \" % answer_list[1])\n",
    "#     if answer == answer_list[0]:\n",
    "#         print(\"맞았습니다!\")\n",
    "#     else:\n",
    "#         print(\"아쉽습니다. 정답은 %s입니다.\" % answer_list[0])\n",
    "\n",
    "print(read_file.read())\n",
    "\n",
    "read_file.close()"
   ]
  },
  {
   "cell_type": "code",
   "execution_count": 19,
   "metadata": {},
   "outputs": [
    {
     "name": "stdout",
     "output_type": "stream",
     "text": [
      "뻗다: reach\n",
      "정답입니다\n",
      "들다: up\n",
      "틀렸습니다. 정답은 hold입니다\n",
      "지나가다: q\n"
     ]
    }
   ],
   "source": [
    "from random import randint\n",
    "\n",
    "# x = randint(a, b) # 랜덤 정수 반환\n",
    "# print(x) # 랜덤 정수 출력\n",
    "\n",
    "# 딕셔너리는 리스트와 달리 인덱스가 없다.\n",
    "\n",
    "read_file = open('vocabulary.txt' ,'r')\n",
    "\n",
    "voca_dict = {}\n",
    "\n",
    "# 리스트로 나눈 뒤, key(한글단어)-value(영어단어)형태로 voca_dict라는 딕셔너리에 할당\n",
    "for line in read_file:\n",
    "    read_list = line.strip().split(\": \")\n",
    "    voca_dict[read_list[1]] = read_list[0]\n",
    "\n",
    "# 위에서 생성된 딕셔너리의 key값만을 리스트로 생성\n",
    "voca_list = list(voca_dict.keys())\n",
    "\n",
    "\n",
    "# 사용자가 q를 입력하기 전까지 퀴즈 반복\n",
    "while True:\n",
    "    random_value = randint(0, len(voca_list) - 1) # key값을 갖는 리스트 길이만큼의 정수 랜덤값 변수 생성\n",
    "    \n",
    "    answer = input(\"%s: \" % voca_list[random_value])\n",
    "\n",
    "    if answer == 'q': # 종료 명령어\n",
    "        read_file.close()\n",
    "        break\n",
    "    \n",
    "    # 정답 및 오답\n",
    "    if answer == voca_dict[voca_list[random_value]]:\n",
    "        print(\"정답입니다\")\n",
    "    else:\n",
    "        print(\"틀렸습니다. 정답은 %s입니다\" % voca_dict[voca_list[random_value]])\n",
    "\n",
    "# 질문 있습니다. \n",
    "# list에 할당하지 않고 dictionary에서 바로 value를 추출해서 key와 비교해보고자 합니다.\n",
    "# value를 뽑아서 key랑 매칭하는 방법이 있을까요?? \n",
    "# key를 통해서 value를 추출하고자 하는 것은 알겠는데, 반대는 어떤식으로 해야 될까요?\n",
    "# value는 중복이 가능하기 때문에 오류가 생길 것 같습니다만... 불가능하겠지요..?\n"
   ]
  }
 ],
 "metadata": {
  "kernelspec": {
   "display_name": "Python 3",
   "language": "python",
   "name": "python3"
  },
  "language_info": {
   "codemirror_mode": {
    "name": "ipython",
    "version": 3
   },
   "file_extension": ".py",
   "mimetype": "text/x-python",
   "name": "python",
   "nbconvert_exporter": "python",
   "pygments_lexer": "ipython3",
   "version": "3.7.4"
  }
 },
 "nbformat": 4,
 "nbformat_minor": 2
}
