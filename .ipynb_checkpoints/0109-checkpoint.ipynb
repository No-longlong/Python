{
 "cells": [
  {
   "cell_type": "code",
   "execution_count": 11,
   "metadata": {},
   "outputs": [
    {
     "name": "stdout",
     "output_type": "stream",
     "text": [
      "6\n"
     ]
    }
   ],
   "source": [
    "# sum_total 은 불필요한 변수이다.\n",
    "# temp 자체로 더해줘도 값이 나온다.\n",
    "\n",
    "def sum_digit(num):\n",
    "    num = str(num)\n",
    "    sum_total = 0\n",
    "    temp = 0\n",
    "    for i in num:\n",
    "        temp = int(i)\n",
    "        sum_total += temp\n",
    "    return sum_total\n",
    "\n",
    "\n",
    "print(sum_digit(123))\n",
    "\n",
    "# num = \"123\"\n",
    "# sum_total = 0\n",
    "# temp = 0\n",
    "# for i in num:\n",
    "#     temp = int(i)\n",
    "#     sum_total += temp\n",
    "#     print(sum_total)"
   ]
  },
  {
   "cell_type": "code",
   "execution_count": 12,
   "metadata": {},
   "outputs": [
    {
     "name": "stdout",
     "output_type": "stream",
     "text": [
      "13501\n"
     ]
    }
   ],
   "source": [
    "# 자리수 합 리턴\n",
    "\n",
    "def sum_digit(num):\n",
    "    num = str(num)\n",
    "    temp = 0\n",
    "    for i in num:\n",
    "        temp += int(i)\n",
    "    return temp\n",
    "\n",
    "all_number = 0\n",
    "for i in range(1, 1001):\n",
    "    all_number += sum_digit(i)\n",
    "print(all_number)\n",
    " \n",
    "# sum_digit(1)부터 sum_digit(1000)까지의 합 구하기"
   ]
  },
  {
   "cell_type": "code",
   "execution_count": 13,
   "metadata": {},
   "outputs": [
    {
     "name": "stdout",
     "output_type": "stream",
     "text": [
      "13501\n"
     ]
    }
   ],
   "source": [
    "def sum_digit(num):\n",
    "    num = str(num)\n",
    "    sum = 0\n",
    "    for i in range(len(num)):\n",
    "        sum = sum + int(num[i])\n",
    "    return sum\n",
    "\n",
    "sum = 0\n",
    "for i in range(1001):\n",
    "    sum += sum_digit(i)\n",
    "print(sum)\n"
   ]
  },
  {
   "cell_type": "code",
   "execution_count": 26,
   "metadata": {},
   "outputs": [
    {
     "name": "stdout",
     "output_type": "stream",
     "text": [
      "880720-123****\n",
      "880720123****\n",
      "930124-765****\n",
      "930124765****\n",
      "761214-235****\n",
      "761214235****\n"
     ]
    }
   ],
   "source": [
    "# -4로 하면, len이 14이든, 13이든 상관없이 뒤에서 빼기 때문에 if else로 나눌 필요가 없다.\n",
    "def mask_security_number(security_number):\n",
    "    temp = security_number[:-4]\n",
    "    temp += \"****\"\n",
    "    return temp\n",
    "\n",
    "print(mask_security_number(\"880720-1234567\"))\n",
    "print(mask_security_number(\"8807201234567\"))\n",
    "print(mask_security_number(\"930124-7654321\"))\n",
    "print(mask_security_number(\"9301247654321\"))\n",
    "print(mask_security_number(\"761214-2357111\"))\n",
    "print(mask_security_number(\"7612142357111\"))"
   ]
  },
  {
   "cell_type": "code",
   "execution_count": 25,
   "metadata": {
    "scrolled": true
   },
   "outputs": [
    {
     "name": "stdout",
     "output_type": "stream",
     "text": [
      "0\n",
      "1\n",
      "2\n",
      "3\n",
      "4\n",
      "5\n",
      "6\n",
      "7\n",
      "8\n",
      "9\n",
      "10\n",
      "11\n",
      "12\n",
      "13\n"
     ]
    }
   ],
   "source": [
    "def mask_security_number(security_number):\n",
    "    # security_number를 리스트로 변환\n",
    "    num_list = []\n",
    "    for i in range(len(security_number)):\n",
    "        print(i)\n",
    "        num_list.append(security_number[i])\n",
    "\n",
    "mask_security_number(\"123456-1234567\")"
   ]
  },
  {
   "cell_type": "code",
   "execution_count": 3,
   "metadata": {},
   "outputs": [
    {
     "name": "stdout",
     "output_type": "stream",
     "text": [
      "True\n",
      "False\n",
      "True\n",
      "True\n",
      "False\n"
     ]
    }
   ],
   "source": [
    "# 답은 맞는데 코드가 뭔가 구려\n",
    "def is_palindrome(word):\n",
    "    count = 0\n",
    "    for i in range(int(len(word)/2)): # int는 내림이지만 //으로 나누면 몫만 반환\n",
    "        if word[i] == word[-i-1]:\n",
    "            count += 0\n",
    "        else:\n",
    "            count += 1\n",
    "        \n",
    "    if count == 0:\n",
    "        return True\n",
    "    else:\n",
    "        return False\n",
    "\n",
    "print(is_palindrome(\"racecar\"))\n",
    "print(is_palindrome(\"stars\"))\n",
    "print(is_palindrome(\"토마토\"))\n",
    "print(is_palindrome(\"kayak\"))\n",
    "print(is_palindrome(\"hello\"))\n"
   ]
  },
  {
   "cell_type": "code",
   "execution_count": 6,
   "metadata": {},
   "outputs": [
    {
     "ename": "SyntaxError",
     "evalue": "invalid syntax (<ipython-input-6-325be779f9ed>, line 6)",
     "output_type": "error",
     "traceback": [
      "\u001b[1;36m  File \u001b[1;32m\"<ipython-input-6-325be779f9ed>\"\u001b[1;36m, line \u001b[1;32m6\u001b[0m\n\u001b[1;33m    continue True\u001b[0m\n\u001b[1;37m                ^\u001b[0m\n\u001b[1;31mSyntaxError\u001b[0m\u001b[1;31m:\u001b[0m invalid syntax\n"
     ]
    }
   ],
   "source": [
    "\n",
    "def is_palindrome(word):\n",
    "    for i in range(int(len(word)/2)):\n",
    "        if word[i] == word[-i-1]:\n",
    "            continue # 여기서 continue는 계속 검사해보는 개념이고, 계속 검사인데도 False가 안걸렸다면 True방법은 아래에.\n",
    "        else:\n",
    "            return False\n",
    "    return True # 여기서 반환해주는거, 결국 위에 else를 거치지 않는다면 그대로 내려올 것이기 때문.\n",
    "    \n",
    "\n",
    "print(is_palindrome(\"racecar\"))\n",
    "print(is_palindrome(\"stars\"))\n",
    "print(is_palindrome(\"토마토\"))\n",
    "print(is_palindrome(\"kayak\"))\n",
    "print(is_palindrome(\"hello\"))\n"
   ]
  }
 ],
 "metadata": {
  "kernelspec": {
   "display_name": "Python 3",
   "language": "python",
   "name": "python3"
  },
  "language_info": {
   "codemirror_mode": {
    "name": "ipython",
    "version": 3
   },
   "file_extension": ".py",
   "mimetype": "text/x-python",
   "name": "python",
   "nbconvert_exporter": "python",
   "pygments_lexer": "ipython3",
   "version": "3.7.4"
  }
 },
 "nbformat": 4,
 "nbformat_minor": 2
}
