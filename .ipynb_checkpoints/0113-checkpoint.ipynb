{
 "cells": [
  {
   "cell_type": "code",
   "execution_count": 1,
   "metadata": {},
   "outputs": [
    {
     "name": "stdout",
     "output_type": "stream",
     "text": [
      "{'교회': 'church', '사과': 'apple', '자전거': 'bicycle', '지갑': 'wallet', '절': 'temple', '비누': 'soap', '고양이': 'cat'}\n"
     ]
    }
   ],
   "source": [
    "from random import randint\n",
    "\n",
    "# voca_dict = {}\n",
    "# voca_dict['교회'] = 'church'\n",
    "# voca_dict['사과'] = 'apple'\n",
    "# voca_dict['자전거'] = 'bicycle'\n",
    "# voca_dict['지갑'] = 'wallet'\n",
    "# voca_dict['절'] = 'temple'\n",
    "# voca_dict['비누'] = 'soap'\n",
    "# voca_dict['고양이'] = 'cat'\n",
    "\n",
    "eng_voca = input(\"영어 단어를 입력하세요: \")\n",
    "\n",
    "\n",
    "\n",
    "print(voca_dict)"
   ]
  }
 ],
 "metadata": {
  "kernelspec": {
   "display_name": "Python 3",
   "language": "python",
   "name": "python3"
  },
  "language_info": {
   "codemirror_mode": {
    "name": "ipython",
    "version": 3
   },
   "file_extension": ".py",
   "mimetype": "text/x-python",
   "name": "python",
   "nbconvert_exporter": "python",
   "pygments_lexer": "ipython3",
   "version": "3.7.4"
  }
 },
 "nbformat": 4,
 "nbformat_minor": 2
}
